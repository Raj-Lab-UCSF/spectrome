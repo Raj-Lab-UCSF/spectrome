{
 "cells": [
  {
   "cell_type": "markdown",
   "metadata": {},
   "source": [
    "Spectral Graph Model Spectral Simulation Performances\n",
    "--\n",
    "\n",
    "Comparing similarity between the simulated spectra with various parameters and different connectomes."
   ]
  },
  {
   "cell_type": "code",
   "execution_count": 1,
   "metadata": {},
   "outputs": [],
   "source": [
    "import sys\n",
    "sys.path.append(\"../../\")\n",
    "\n",
    "# spectrome imports:\n",
    "from spectrome.forward import runforward\n",
    "from spectrome.utils import functions, path, generate\n",
    "from spectrome.brain import Brain\n",
    "\n",
    "# Other modules:\n",
    "import matplotlib.pyplot as plt\n",
    "import numpy as np\n",
    "from scipy.io import loadmat\n",
    "from scipy.stats import pearsonr\n",
    "from tqdm import tqdm_notebook"
   ]
  },
  {
   "cell_type": "code",
   "execution_count": 2,
   "metadata": {},
   "outputs": [],
   "source": [
    "# An external custom function for re-arranging the individual connectomes to match the Desikan-Killiany atlas brain regions indexing.\n",
    "\n",
    "def individual_connectome_order():\n",
    "    \"\"\"Get individual connectome's brain region ordering (specific for DK86 atlas).\n",
    "\n",
    "    Args:\n",
    "\n",
    "    Returns:\n",
    "        perm (type): Brain region orders for all regions\n",
    "        empty (type): Brain regions with no MEG\n",
    "        cort (type): Brain cortical regions.\n",
    "\n",
    "    \"\"\"\n",
    "    cort_lh = np.array([0, 1, 2, 3, 4, 6, 7, 8, 10, 11, 12, 13, 14,\n",
    "                             15, 17, 16, 18, 19, 20, 21, 22, 23, 24, 25,\n",
    "                             26, 27, 28, 29, 30, 31, 5, 32, 33, 9])\n",
    "    qsubcort_lh = np.array([0, 40, 36, 39, 38, 37, 35, 34, 0])\n",
    "    qsubcort_rh = qsubcort_lh + 34 + 1\n",
    "    cort = np.concatenate([cort_lh, 34 + cort_lh])\n",
    "    cort_rh = cort_lh + 34 + 7\n",
    "    perm = np.concatenate([cort_lh, cort_rh,\n",
    "                                qsubcort_lh, qsubcort_rh])\n",
    "    empty = np.array([68, 77, 76, 85])\n",
    "    return perm, empty, cort"
   ]
  },
  {
   "cell_type": "markdown",
   "metadata": {},
   "source": [
    "Some necessary house-keeping:"
   ]
  },
  {
   "cell_type": "code",
   "execution_count": 4,
   "metadata": {},
   "outputs": [],
   "source": [
    "# define data directory\n",
    "data_dir = path.get_data_path()\n",
    "\n",
    "# cortical areas with MEG collected + source reconstructed\n",
    "rois_with_MEG = np.arange(0,68)\n",
    "\n",
    "# define frequency bins:\n",
    "fmin = 2\n",
    "fmax = 45\n",
    "fvec = np.linspace(fmin, fmax, 40) # 40 frequency bins between 2Hz-45Hz\n",
    "\n",
    "# filter coefficients for smoothing\n",
    "lpf = np.array([1, 2, 5, 2, 1])\n",
    "lpf = lpf/np.sum(lpf)\n",
    "\n",
    "# set a RNG seed\n",
    "np.random.seed(24)"
   ]
  },
  {
   "cell_type": "markdown",
   "metadata": {},
   "source": [
    "First extract individual connectome's optimized parameters and spectral correlation values from optimization results."
   ]
  },
  {
   "cell_type": "code",
   "execution_count": 5,
   "metadata": {},
   "outputs": [
    {
     "name": "stdout",
     "output_type": "stream",
     "text": [
      "(36,)\n",
      "(36, 7)\n",
      "(68, 40, 36)\n"
     ]
    },
    {
     "name": "stderr",
     "output_type": "stream",
     "text": [
      "/home/anorak/.local/lib/python3.6/site-packages/ipykernel_launcher.py:45: DeprecationWarning: using a non-integer array as obj in delete will result in an error in the future\n"
     ]
    }
   ],
   "source": [
    "## individual connectomes, this is a Nregion x Nregion x Nsubjects array:\n",
    "ind_data = loadmat(data_dir + '/individual_subjects.mat')\n",
    "ind_cdk = ind_data['A_all_subjs_final']\n",
    "perm, empty, cort = individual_connectome_order()\n",
    "\n",
    "## individual optimization results:\n",
    "ind_optr = loadmat(data_dir + '/SCFC_opparam_individual.mat')\n",
    "# extract the spectral correlation values:\n",
    "nsubs = ind_optr['output']['feval'].shape[1]\n",
    "ind_corr = np.zeros(nsubs)\n",
    "for i in np.arange(0,nsubs):\n",
    "    if ind_optr['output']['feval'][0,i].shape[1] is 1:\n",
    "        ind_corr[i] = ind_optr['output']['feval'][0,i]\n",
    "\n",
    "ind_corr = ind_corr[ind_corr != 0] #there are 3 subjects without connectomes/results\n",
    "print(ind_corr.shape)\n",
    "#nsubs = ind_corr.shape[0]\n",
    "\n",
    "# extract parameters for use later:\n",
    "ind_params = np.zeros([nsubs, 7])\n",
    "for i, params in enumerate(np.squeeze(ind_optr['output']['param'])):\n",
    "    if ind_optr['output']['param'][0,i].shape[1] == 1:\n",
    "        ind_params[i] = np.squeeze(params)\n",
    "\n",
    "ind_params = ind_params[~np.all(ind_params == 0, axis=1)] #remove 3 subjects again\n",
    "print(ind_params.shape)\n",
    "\n",
    "## individual MEG frequency spectrum:\n",
    "ind_freq = loadmat(data_dir + '/freqMEGdata.mat')\n",
    "ind_psd = np.zeros([np.squeeze(ind_freq['freqMEGdata']['psd'])[0].shape[0], len(fvec), nsubs])\n",
    "empty_psd = np.zeros(3)\n",
    "e = 0\n",
    "for i, psd in enumerate(np.squeeze(ind_freq['freqMEGdata']['psd'])):\n",
    "    if psd.shape[1] != 0:\n",
    "        # smooth\n",
    "        for q in np.arange(0,len(psd)):\n",
    "            ind_psd[q,:,i] = np.convolve(psd[q,:], lpf, 'same')\n",
    "        \n",
    "        # de-mean:\n",
    "        #ind_psd[:,:,i] = ind_psd[:,:,i] - np.mean(ind_psd[:,:,i], axis = 0)\n",
    "    else:\n",
    "        empty_psd[e] = i\n",
    "        e += 1\n",
    "\n",
    "ind_psd = np.delete(ind_psd, empty_psd, axis = 2)\n",
    "print(ind_psd.shape) # Nbins x Nregions x Nsubjects\n",
    "nsubs = ind_params.shape[0]"
   ]
  },
  {
   "cell_type": "markdown",
   "metadata": {},
   "source": [
    "Simulate random connectome with 95% sparsity"
   ]
  },
  {
   "cell_type": "code",
   "execution_count": null,
   "metadata": {},
   "outputs": [],
   "source": [
    "C_ind = ind_cdk[:,:,0]\n",
    "F_ind = ind_psd[:,:,0]\n",
    "C_ind = C_ind[perm,:][:,perm]\n",
    "C_ind[empty,:] = 0\n",
    "C_ind[:,empty] = 0\n",
    "\n",
    "brain = Brain.Brain()\n",
    "brain.add_connectome(data_dir) # grabs distance matrix\n",
    "brain.connectome = C_ind # re-assign connectome to individual connectome\n",
    "# re-ordering for DK atlas and normalizing the connectomes:\n",
    "brain.reorder_connectome(brain.connectome, brain.distance_matrix)\n",
    "brain.bi_symmetric_c()\n",
    "brain.reduce_extreme_dir()\n",
    "brain.ntf_params['tau_e'] = ind_params[0,0]\n",
    "brain.ntf_params['tau_i'] = ind_params[0,1]\n",
    "brain.ntf_params['alpha'] = ind_params[0,2]\n",
    "brain.ntf_params['speed'] = ind_params[0,3]\n",
    "brain.ntf_params['gei'] = ind_params[0,4]\n",
    "brain.ntf_params['gii'] = ind_params[0,5]\n",
    "brain.ntf_params['tauC'] = ind_params[0,6]\n",
    "# simulate model spectra:\n",
    "freq_mdl, freq_resp, _, _ = runforward.run_local_coupling_forward(brain, brain.ntf_params, fvec)\n",
    "freq_mdl = freq_mdl[rois_with_MEG,:]\n",
    "\n",
    "# smooth out spectra\n",
    "freq_out = np.zeros(freq_mdl.shape)\n",
    "for p in np.arange(0,len(freq_mdl)):\n",
    "    freq_out[p,:] = np.convolve(np.abs(freq_mdl[p,:]), lpf, 'same')\n",
    "    \n",
    "# de-mean:\n",
    "#freq_out = freq_out - np.mean(freq_out, axis = 0)\n",
    "\n",
    "# compute correlation:\n",
    "#pearsonr(ind_psd[:,:,0], freq_out)\n",
    "#freq_out = np.convolve(np.abs(freq_mdl), lpf, 'same')"
   ]
  },
  {
   "cell_type": "code",
   "execution_count": 7,
   "metadata": {},
   "outputs": [
    {
     "data": {
      "application/vnd.jupyter.widget-view+json": {
       "model_id": "c55f4c39cff04ae2a5f752263e2a0684",
       "version_major": 2,
       "version_minor": 0
      },
      "text/plain": [
       "HBox(children=(IntProgress(value=0, description='Random connectomes', max=25, style=ProgressStyle(description_…"
      ]
     },
     "metadata": {},
     "output_type": "display_data"
    },
    {
     "data": {
      "application/vnd.jupyter.widget-view+json": {
       "model_id": "294b07bbc7a04092944bac2f56bec68f",
       "version_major": 2,
       "version_minor": 0
      },
      "text/plain": [
       "HBox(children=(IntProgress(value=0, description='Current subject', max=36, style=ProgressStyle(description_wid…"
      ]
     },
     "metadata": {},
     "output_type": "display_data"
    },
    {
     "data": {
      "application/vnd.jupyter.widget-view+json": {
       "model_id": "e14d290999d443c28b5834162c228dbb",
       "version_major": 2,
       "version_minor": 0
      },
      "text/plain": [
       "HBox(children=(IntProgress(value=0, description='Current subject', max=36, style=ProgressStyle(description_wid…"
      ]
     },
     "metadata": {},
     "output_type": "display_data"
    },
    {
     "data": {
      "application/vnd.jupyter.widget-view+json": {
       "model_id": "3fc8c16576c5422fa480e0c57551a955",
       "version_major": 2,
       "version_minor": 0
      },
      "text/plain": [
       "HBox(children=(IntProgress(value=0, description='Current subject', max=36, style=ProgressStyle(description_wid…"
      ]
     },
     "metadata": {},
     "output_type": "display_data"
    },
    {
     "ename": "KeyboardInterrupt",
     "evalue": "",
     "output_type": "error",
     "traceback": [
      "\u001b[0;31m---------------------------------------------------------------------------\u001b[0m",
      "\u001b[0;31mKeyboardInterrupt\u001b[0m                         Traceback (most recent call last)",
      "\u001b[0;32m<ipython-input-7-a24f81caf21a>\u001b[0m in \u001b[0;36m<module>\u001b[0;34m\u001b[0m\n\u001b[1;32m     38\u001b[0m         \u001b[0mbrain\u001b[0m\u001b[0;34m.\u001b[0m\u001b[0mntf_params\u001b[0m\u001b[0;34m[\u001b[0m\u001b[0;34m'gii'\u001b[0m\u001b[0;34m]\u001b[0m \u001b[0;34m=\u001b[0m \u001b[0mind_params\u001b[0m\u001b[0;34m[\u001b[0m\u001b[0ms\u001b[0m\u001b[0;34m,\u001b[0m\u001b[0;36m5\u001b[0m\u001b[0;34m]\u001b[0m\u001b[0;34m\u001b[0m\u001b[0;34m\u001b[0m\u001b[0m\n\u001b[1;32m     39\u001b[0m         \u001b[0mbrain\u001b[0m\u001b[0;34m.\u001b[0m\u001b[0mntf_params\u001b[0m\u001b[0;34m[\u001b[0m\u001b[0;34m'tauC'\u001b[0m\u001b[0;34m]\u001b[0m \u001b[0;34m=\u001b[0m \u001b[0mind_params\u001b[0m\u001b[0;34m[\u001b[0m\u001b[0ms\u001b[0m\u001b[0;34m,\u001b[0m\u001b[0;36m6\u001b[0m\u001b[0;34m]\u001b[0m\u001b[0;34m\u001b[0m\u001b[0;34m\u001b[0m\u001b[0m\n\u001b[0;32m---> 40\u001b[0;31m         \u001b[0mfreq_mdl\u001b[0m\u001b[0;34m,\u001b[0m \u001b[0mfreq_resp\u001b[0m\u001b[0;34m,\u001b[0m \u001b[0m_\u001b[0m\u001b[0;34m,\u001b[0m \u001b[0m_\u001b[0m \u001b[0;34m=\u001b[0m \u001b[0mrunforward\u001b[0m\u001b[0;34m.\u001b[0m\u001b[0mrun_local_coupling_forward\u001b[0m\u001b[0;34m(\u001b[0m\u001b[0mbrain\u001b[0m\u001b[0;34m,\u001b[0m \u001b[0mbrain\u001b[0m\u001b[0;34m.\u001b[0m\u001b[0mntf_params\u001b[0m\u001b[0;34m,\u001b[0m \u001b[0mfvec\u001b[0m\u001b[0;34m)\u001b[0m\u001b[0;34m\u001b[0m\u001b[0;34m\u001b[0m\u001b[0m\n\u001b[0m\u001b[1;32m     41\u001b[0m         \u001b[0mfreq_mdl\u001b[0m \u001b[0;34m=\u001b[0m \u001b[0mfreq_mdl\u001b[0m\u001b[0;34m[\u001b[0m\u001b[0mrois_with_MEG\u001b[0m\u001b[0;34m,\u001b[0m\u001b[0;34m:\u001b[0m\u001b[0;34m]\u001b[0m\u001b[0;34m\u001b[0m\u001b[0;34m\u001b[0m\u001b[0m\n\u001b[1;32m     42\u001b[0m         \u001b[0;31m# smooth out spectra\u001b[0m\u001b[0;34m\u001b[0m\u001b[0;34m\u001b[0m\u001b[0;34m\u001b[0m\u001b[0m\n",
      "\u001b[0;32m~/lab/brain-scfc/spectrome/spectrome/forward/runforward.py\u001b[0m in \u001b[0;36mrun_local_coupling_forward\u001b[0;34m(brain, params, freqs)\u001b[0m\n\u001b[1;32m     66\u001b[0m         \u001b[0mw\u001b[0m \u001b[0;34m=\u001b[0m \u001b[0;36m2\u001b[0m \u001b[0;34m*\u001b[0m \u001b[0mnp\u001b[0m\u001b[0;34m.\u001b[0m\u001b[0mpi\u001b[0m \u001b[0;34m*\u001b[0m \u001b[0mfreq\u001b[0m\u001b[0;34m\u001b[0m\u001b[0;34m\u001b[0m\u001b[0m\n\u001b[1;32m     67\u001b[0m         freq_resp, eig_val, eig_vec, freq_model, _ = nt.network_transfer_local_alpha(\n\u001b[0;32m---> 68\u001b[0;31m             \u001b[0mbrain\u001b[0m\u001b[0;34m,\u001b[0m \u001b[0mparams\u001b[0m\u001b[0;34m,\u001b[0m \u001b[0mw\u001b[0m\u001b[0;34m\u001b[0m\u001b[0;34m\u001b[0m\u001b[0m\n\u001b[0m\u001b[1;32m     69\u001b[0m         )\n\u001b[1;32m     70\u001b[0m         \u001b[0mfrequency_response\u001b[0m\u001b[0;34m.\u001b[0m\u001b[0mappend\u001b[0m\u001b[0;34m(\u001b[0m\u001b[0mfreq_resp\u001b[0m\u001b[0;34m)\u001b[0m\u001b[0;34m\u001b[0m\u001b[0;34m\u001b[0m\u001b[0m\n",
      "\u001b[0;32m~/lab/brain-scfc/spectrome/spectrome/forward/network_transfer.py\u001b[0m in \u001b[0;36mnetwork_transfer_local_alpha\u001b[0;34m(brain, parameters, w, use_smalleigs)\u001b[0m\n\u001b[1;32m    174\u001b[0m     \u001b[0mL\u001b[0m \u001b[0;34m=\u001b[0m \u001b[0mL1\u001b[0m \u001b[0;34m-\u001b[0m \u001b[0malpha\u001b[0m \u001b[0;34m*\u001b[0m \u001b[0mnp\u001b[0m\u001b[0;34m.\u001b[0m\u001b[0mmatmul\u001b[0m\u001b[0;34m(\u001b[0m\u001b[0mnp\u001b[0m\u001b[0;34m.\u001b[0m\u001b[0mdiag\u001b[0m\u001b[0;34m(\u001b[0m\u001b[0mL2\u001b[0m\u001b[0;34m)\u001b[0m\u001b[0;34m,\u001b[0m \u001b[0mCc\u001b[0m\u001b[0;34m)\u001b[0m\u001b[0;34m\u001b[0m\u001b[0;34m\u001b[0m\u001b[0m\n\u001b[1;32m    175\u001b[0m \u001b[0;34m\u001b[0m\u001b[0m\n\u001b[0;32m--> 176\u001b[0;31m     \u001b[0md\u001b[0m\u001b[0;34m,\u001b[0m \u001b[0mv\u001b[0m \u001b[0;34m=\u001b[0m \u001b[0mnp\u001b[0m\u001b[0;34m.\u001b[0m\u001b[0mlinalg\u001b[0m\u001b[0;34m.\u001b[0m\u001b[0meig\u001b[0m\u001b[0;34m(\u001b[0m\u001b[0mL\u001b[0m\u001b[0;34m)\u001b[0m  \u001b[0;31m# decomposition with scipy.linalg.eig\u001b[0m\u001b[0;34m\u001b[0m\u001b[0;34m\u001b[0m\u001b[0m\n\u001b[0m\u001b[1;32m    177\u001b[0m     \u001b[0meig_ind\u001b[0m \u001b[0;34m=\u001b[0m \u001b[0mnp\u001b[0m\u001b[0;34m.\u001b[0m\u001b[0margsort\u001b[0m\u001b[0;34m(\u001b[0m\u001b[0mnp\u001b[0m\u001b[0;34m.\u001b[0m\u001b[0mabs\u001b[0m\u001b[0;34m(\u001b[0m\u001b[0md\u001b[0m\u001b[0;34m)\u001b[0m\u001b[0;34m)\u001b[0m  \u001b[0;31m# sorting in ascending order and absolute value\u001b[0m\u001b[0;34m\u001b[0m\u001b[0;34m\u001b[0m\u001b[0m\n\u001b[1;32m    178\u001b[0m     \u001b[0meig_vec\u001b[0m \u001b[0;34m=\u001b[0m \u001b[0mv\u001b[0m\u001b[0;34m[\u001b[0m\u001b[0;34m:\u001b[0m\u001b[0;34m,\u001b[0m \u001b[0meig_ind\u001b[0m\u001b[0;34m]\u001b[0m  \u001b[0;31m# re-indexing eigen vectors according to sorted index\u001b[0m\u001b[0;34m\u001b[0m\u001b[0;34m\u001b[0m\u001b[0m\n",
      "\u001b[0;32m<__array_function__ internals>\u001b[0m in \u001b[0;36meig\u001b[0;34m(*args, **kwargs)\u001b[0m\n",
      "\u001b[0;32m~/miniconda3/envs/spectrome/lib/python3.6/site-packages/numpy/linalg/linalg.py\u001b[0m in \u001b[0;36meig\u001b[0;34m(a)\u001b[0m\n\u001b[1;32m   1309\u001b[0m         _raise_linalgerror_eigenvalues_nonconvergence)\n\u001b[1;32m   1310\u001b[0m     \u001b[0msignature\u001b[0m \u001b[0;34m=\u001b[0m \u001b[0;34m'D->DD'\u001b[0m \u001b[0;32mif\u001b[0m \u001b[0misComplexType\u001b[0m\u001b[0;34m(\u001b[0m\u001b[0mt\u001b[0m\u001b[0;34m)\u001b[0m \u001b[0;32melse\u001b[0m \u001b[0;34m'd->DD'\u001b[0m\u001b[0;34m\u001b[0m\u001b[0;34m\u001b[0m\u001b[0m\n\u001b[0;32m-> 1311\u001b[0;31m     \u001b[0mw\u001b[0m\u001b[0;34m,\u001b[0m \u001b[0mvt\u001b[0m \u001b[0;34m=\u001b[0m \u001b[0m_umath_linalg\u001b[0m\u001b[0;34m.\u001b[0m\u001b[0meig\u001b[0m\u001b[0;34m(\u001b[0m\u001b[0ma\u001b[0m\u001b[0;34m,\u001b[0m \u001b[0msignature\u001b[0m\u001b[0;34m=\u001b[0m\u001b[0msignature\u001b[0m\u001b[0;34m,\u001b[0m \u001b[0mextobj\u001b[0m\u001b[0;34m=\u001b[0m\u001b[0mextobj\u001b[0m\u001b[0;34m)\u001b[0m\u001b[0;34m\u001b[0m\u001b[0;34m\u001b[0m\u001b[0m\n\u001b[0m\u001b[1;32m   1312\u001b[0m \u001b[0;34m\u001b[0m\u001b[0m\n\u001b[1;32m   1313\u001b[0m     \u001b[0;32mif\u001b[0m \u001b[0;32mnot\u001b[0m \u001b[0misComplexType\u001b[0m\u001b[0;34m(\u001b[0m\u001b[0mt\u001b[0m\u001b[0;34m)\u001b[0m \u001b[0;32mand\u001b[0m \u001b[0mall\u001b[0m\u001b[0;34m(\u001b[0m\u001b[0mw\u001b[0m\u001b[0;34m.\u001b[0m\u001b[0mimag\u001b[0m \u001b[0;34m==\u001b[0m \u001b[0;36m0.0\u001b[0m\u001b[0;34m)\u001b[0m\u001b[0;34m:\u001b[0m\u001b[0;34m\u001b[0m\u001b[0;34m\u001b[0m\u001b[0m\n",
      "\u001b[0;31mKeyboardInterrupt\u001b[0m: "
     ]
    }
   ],
   "source": [
    "num_it = 25 # 25 iterations x 36 parameters = 900 simulations total\n",
    "r95_corr = np.zeros([num_it, nsubs])\n",
    "\n",
    "for r in tqdm_notebook(np.arange(0, num_it), desc = 'Random connectomes'):\n",
    "    for s in tqdm_notebook(np.arange(0, nsubs), desc = 'Current subject'):\n",
    "        C_ind = ind_cdk[:,:,s] # grab current subject's individual connectome\n",
    "        F_ind = ind_psd[:,:,s] # grab current subject's MEG\n",
    "        \n",
    "        # permute to fix ordering:\n",
    "        C_ind = C_ind[perm,:][:,perm]\n",
    "        C_ind[empty,:] = 0\n",
    "        C_ind[:,empty] = 0\n",
    "        \n",
    "        # create spectrome brain:\n",
    "        brain = Brain.Brain()\n",
    "        brain.add_connectome(data_dir) # grabs distance matrix\n",
    "        brain.connectome = C_ind # re-assign connectome to individual connectome\n",
    "        # re-ordering for DK atlas and normalizing the connectomes:\n",
    "        brain.reorder_connectome(brain.connectome, brain.distance_matrix)\n",
    "        brain.bi_symmetric_c()\n",
    "        brain.reduce_extreme_dir()\n",
    "        \n",
    "        # Create random connectivity matrix:\n",
    "        V = 86 # number of nodes\n",
    "        E = int(np.floor((86 ** 2)*(1-0.95))) # sparsity on number of edges\n",
    "        u = np.mean(np.triu(brain.reducedConnectome)) #mean\n",
    "        v = np.std(np.triu(brain.reducedConnectome)) #variance\n",
    "        Crand = generate.random_Cij_und(V, E)\n",
    "        Crand = generate.add_weights(Crand, u, v)\n",
    "        brain.reducedConnectome = Crand\n",
    "        \n",
    "        # simulate model spectra:\n",
    "        brain.ntf_params['tau_e'] = ind_params[s,0]\n",
    "        brain.ntf_params['tau_i'] = ind_params[s,1]\n",
    "        brain.ntf_params['alpha'] = ind_params[s,2]\n",
    "        brain.ntf_params['speed'] = ind_params[s,3]\n",
    "        brain.ntf_params['gei'] = ind_params[s,4]\n",
    "        brain.ntf_params['gii'] = ind_params[s,5]\n",
    "        brain.ntf_params['tauC'] = ind_params[s,6]\n",
    "        freq_mdl, freq_resp, _, _ = runforward.run_local_coupling_forward(brain, brain.ntf_params, fvec)\n",
    "        freq_mdl = freq_mdl[rois_with_MEG,:]\n",
    "        # smooth out spectra\n",
    "        # smooth out spectra\n",
    "        freq_out = np.zeros(freq_mdl.shape)\n",
    "        for p in np.arange(0,len(freq_mdl)):\n",
    "            freq_out[p,:] = np.convolve(np.abs(freq_mdl[p,:]), lpf, 'same')\n",
    "            \n",
    "        corrs = np.zeros(len(freq_out))\n",
    "        for c in np.arange(0, len(freq_out)):\n",
    "            corrs[c] = pearsonr(ind_psd[c,:,s], freq_out[c,:])[0]\n",
    "        \n",
    "        r95_corr[r,s] = np.mean(corrs)\n",
    "        \n",
    "print(r95_corr)"
   ]
  },
  {
   "cell_type": "markdown",
   "metadata": {},
   "source": [
    "Simulate distance connectome"
   ]
  },
  {
   "cell_type": "code",
   "execution_count": null,
   "metadata": {},
   "outputs": [],
   "source": []
  },
  {
   "cell_type": "markdown",
   "metadata": {},
   "source": [
    "Simulate with average parameters"
   ]
  },
  {
   "cell_type": "code",
   "execution_count": null,
   "metadata": {},
   "outputs": [],
   "source": []
  }
 ],
 "metadata": {
  "kernelspec": {
   "display_name": "Python 3",
   "language": "python",
   "name": "python3"
  },
  "language_info": {
   "codemirror_mode": {
    "name": "ipython",
    "version": 3
   },
   "file_extension": ".py",
   "mimetype": "text/x-python",
   "name": "python",
   "nbconvert_exporter": "python",
   "pygments_lexer": "ipython3",
   "version": "3.6.7"
  }
 },
 "nbformat": 4,
 "nbformat_minor": 4
}
